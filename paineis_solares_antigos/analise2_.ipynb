{
 "cells": [
  {
   "cell_type": "code",
   "execution_count": 27,
   "metadata": {},
   "outputs": [
    {
     "output_type": "execute_result",
     "data": {
      "text/plain": "             Value\nDate              \n2014-08-09   5.341\n2014-08-10  11.304\n2014-08-11  16.170\n2014-08-12  14.926\n2014-08-13   0.147\n...            ...\n2020-06-14   3.048\n2020-06-15   4.472\n2020-06-16   6.833\n2020-06-17   7.840\n2020-06-18  10.728\n\n[2141 rows x 1 columns]",
      "text/html": "<div>\n<style scoped>\n    .dataframe tbody tr th:only-of-type {\n        vertical-align: middle;\n    }\n\n    .dataframe tbody tr th {\n        vertical-align: top;\n    }\n\n    .dataframe thead th {\n        text-align: right;\n    }\n</style>\n<table border=\"1\" class=\"dataframe\">\n  <thead>\n    <tr style=\"text-align: right;\">\n      <th></th>\n      <th>Value</th>\n    </tr>\n    <tr>\n      <th>Date</th>\n      <th></th>\n    </tr>\n  </thead>\n  <tbody>\n    <tr>\n      <th>2014-08-09</th>\n      <td>5.341</td>\n    </tr>\n    <tr>\n      <th>2014-08-10</th>\n      <td>11.304</td>\n    </tr>\n    <tr>\n      <th>2014-08-11</th>\n      <td>16.170</td>\n    </tr>\n    <tr>\n      <th>2014-08-12</th>\n      <td>14.926</td>\n    </tr>\n    <tr>\n      <th>2014-08-13</th>\n      <td>0.147</td>\n    </tr>\n    <tr>\n      <th>...</th>\n      <td>...</td>\n    </tr>\n    <tr>\n      <th>2020-06-14</th>\n      <td>3.048</td>\n    </tr>\n    <tr>\n      <th>2020-06-15</th>\n      <td>4.472</td>\n    </tr>\n    <tr>\n      <th>2020-06-16</th>\n      <td>6.833</td>\n    </tr>\n    <tr>\n      <th>2020-06-17</th>\n      <td>7.840</td>\n    </tr>\n    <tr>\n      <th>2020-06-18</th>\n      <td>10.728</td>\n    </tr>\n  </tbody>\n</table>\n<p>2141 rows × 1 columns</p>\n</div>"
     },
     "metadata": {},
     "execution_count": 27
    }
   ],
   "source": [
    "import pandas as pd\n",
    "df = pd.read_csv('consumo_paineis_solares.csv', sep=',')\n",
    "df.Date = pd.to_datetime(df.Date)\n",
    "df = df.set_index('Date')\n",
    "df"
   ]
  },
  {
   "cell_type": "code",
   "execution_count": 28,
   "metadata": {},
   "outputs": [
    {
     "output_type": "execute_result",
     "data": {
      "text/plain": "             Value\ncount  2083.000000\nmean     11.889381\nstd       4.961536\nmin       0.000000\n25%       8.316000\n50%      12.301000\n75%      15.411000\nmax      24.491000",
      "text/html": "<div>\n<style scoped>\n    .dataframe tbody tr th:only-of-type {\n        vertical-align: middle;\n    }\n\n    .dataframe tbody tr th {\n        vertical-align: top;\n    }\n\n    .dataframe thead th {\n        text-align: right;\n    }\n</style>\n<table border=\"1\" class=\"dataframe\">\n  <thead>\n    <tr style=\"text-align: right;\">\n      <th></th>\n      <th>Value</th>\n    </tr>\n  </thead>\n  <tbody>\n    <tr>\n      <th>count</th>\n      <td>2083.000000</td>\n    </tr>\n    <tr>\n      <th>mean</th>\n      <td>11.889381</td>\n    </tr>\n    <tr>\n      <th>std</th>\n      <td>4.961536</td>\n    </tr>\n    <tr>\n      <th>min</th>\n      <td>0.000000</td>\n    </tr>\n    <tr>\n      <th>25%</th>\n      <td>8.316000</td>\n    </tr>\n    <tr>\n      <th>50%</th>\n      <td>12.301000</td>\n    </tr>\n    <tr>\n      <th>75%</th>\n      <td>15.411000</td>\n    </tr>\n    <tr>\n      <th>max</th>\n      <td>24.491000</td>\n    </tr>\n  </tbody>\n</table>\n</div>"
     },
     "metadata": {},
     "execution_count": 28
    }
   ],
   "source": [
    "df.describe()"
   ]
  }
 ],
 "metadata": {
  "language_info": {
   "codemirror_mode": {
    "name": "ipython",
    "version": 3
   },
   "file_extension": ".py",
   "mimetype": "text/x-python",
   "name": "python",
   "nbconvert_exporter": "python",
   "pygments_lexer": "ipython3",
   "version": "3.7.7-final"
  },
  "orig_nbformat": 2,
  "kernelspec": {
   "name": "python37764bitdad157b643b7445ca0af50d1c9882389",
   "display_name": "Python 3.7.7 64-bit"
  }
 },
 "nbformat": 4,
 "nbformat_minor": 2
}